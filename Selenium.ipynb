{
  "nbformat": 4,
  "nbformat_minor": 0,
  "metadata": {
    "colab": {
      "name": "Selenium.ipynb",
      "provenance": [],
      "collapsed_sections": [],
      "toc_visible": true
    },
    "kernelspec": {
      "name": "python3",
      "display_name": "Python 3"
    },
    "language_info": {
      "name": "python"
    }
  },
  "cells": [
    {
      "cell_type": "markdown",
      "metadata": {
        "id": "l6nyaCK3nPs7"
      },
      "source": [
        "# Selenium\n",
        "\n",
        "Selenium es una librería para poder hacer Web Scrapping y automatizar pruebas desde un navegador web. Permite acceder a componentes HTML en específico a través del XPATH como también del ID o del texto que tengan. Funciona en varios navegadores como Google Chrome y Firefox.\n",
        "\n",
        "El contenido de este notebook está orientado a ser de ayuda rápida para algunas funciones básicas que ofrece la librería Selenium así como también su uso con otras librerías como Pandas para estandarizar el contenido recolectado desde una web y Requests para consumo de API's.\n",
        "\n",
        "Al final del notebook tengo dos ejemplos más complejos de su uso:\n",
        "\n",
        "1. Extracción de información a partir de un API para almacenarlo en un DataFrame.\n",
        "2. Ingresar a una página web mediante usuario y password. Navegar a través de las opciones desplegables. Completar los valores de campos tipo COMBOBOX y DATE y recuperar la información de una tabla para almacenarlo en un DataFrame.\n",
        "\n",
        "\n",
        "Fuentes:\n",
        "\n",
        "- https://pypi.org/project/selenium/\n",
        "- https://selenium-python.readthedocs.io/\n",
        "- https://www.selenium.dev/selenium/docs/api/py/"
      ]
    },
    {
      "cell_type": "markdown",
      "metadata": {
        "id": "jIq0D46RoeS_"
      },
      "source": [
        "## Completar valor en campos y hacer click\n",
        "\n",
        "En este ejemplo se puede acceder a una URL y enviar un valor `valor` al campo con identificador `name` ubicándolo con el XPATH.\n",
        "\n",
        "Luego, se presiona el botón con identificador `name_button` accediendo también desde su XPATH."
      ]
    },
    {
      "cell_type": "code",
      "metadata": {
        "id": "g-GKl6BHnIQa"
      },
      "source": [
        "from selenium import webdriver"
      ],
      "execution_count": null,
      "outputs": []
    },
    {
      "cell_type": "code",
      "metadata": {
        "id": "hnHMCBRIn9_S"
      },
      "source": [
        "url = \"http://www.direccion-ejemplo.com\""
      ],
      "execution_count": null,
      "outputs": []
    },
    {
      "cell_type": "code",
      "metadata": {
        "id": "occRBjDXn_8W"
      },
      "source": [
        "driver = webdriver.Chrome()\n",
        "driver.get(url)"
      ],
      "execution_count": null,
      "outputs": []
    },
    {
      "cell_type": "code",
      "metadata": {
        "id": "_r_OefhKoFjV"
      },
      "source": [
        "driver.find_element_by_xpath('//*[@id=\"name\"]').send_keys('valor')\n",
        "driver.find_element_by_xpath('//*[@id=\"name_button\"]/button').click()"
      ],
      "execution_count": null,
      "outputs": []
    },
    {
      "cell_type": "markdown",
      "metadata": {
        "id": "C6HYJIC7ocUm"
      },
      "source": [
        "## Click en botón y esperar unos segundos\n",
        "\n",
        "En este ejemplo se accede a una URL, se presiona un botón con ID `name_button` y se espera 10 segundos hasta que carge la página. Finalmente se recupera el texto que se encuentre en el componente H4 con ID `name`.\n",
        "\n",
        "**Sugerencia**\n",
        "\n",
        "En algunos casos, luego de usar el atributo `.text` retorna un texto en blanco. Por lo que se puede usar la función `.get_attribute(\"innerHTML\")`. De este modo se accede al atributo `innerHTML` del mismo componente."
      ]
    },
    {
      "cell_type": "code",
      "metadata": {
        "id": "U6nf7CQ7oqDz"
      },
      "source": [
        "from selenium import webdriver\n",
        "from selenium.webdriver.support.ui import WebDriverWait"
      ],
      "execution_count": null,
      "outputs": []
    },
    {
      "cell_type": "code",
      "metadata": {
        "id": "5tYcUinkoyjO"
      },
      "source": [
        "url = \"http://www.direccion-ejemplo.com\""
      ],
      "execution_count": null,
      "outputs": []
    },
    {
      "cell_type": "code",
      "metadata": {
        "id": "tN6Iw7hEo0D3"
      },
      "source": [
        "driver = webdriver.Chrome()\n",
        "driver.get(url)"
      ],
      "execution_count": null,
      "outputs": []
    },
    {
      "cell_type": "code",
      "metadata": {
        "id": "at81mqrto1ny"
      },
      "source": [
        "driver.find_element_by_xpath('//*[@id=\"name_button\"]/button').click()"
      ],
      "execution_count": null,
      "outputs": []
    },
    {
      "cell_type": "code",
      "metadata": {
        "id": "NYgy3G-Lo3_8"
      },
      "source": [
        "driver.implicitly_wait(10)"
      ],
      "execution_count": null,
      "outputs": []
    },
    {
      "cell_type": "code",
      "metadata": {
        "id": "zRjGE3AHo6EW"
      },
      "source": [
        "text = driver.find_element_by_xpath('//*[@id=\"name\"]/h4').text"
      ],
      "execution_count": null,
      "outputs": []
    },
    {
      "cell_type": "code",
      "metadata": {
        "id": "swTaiT7OpF7X"
      },
      "source": [
        "print(text)"
      ],
      "execution_count": null,
      "outputs": []
    },
    {
      "cell_type": "markdown",
      "metadata": {
        "id": "kUqR8ZdNAWIe"
      },
      "source": [
        "## Iterar valores dentro de una lista de elementos\n",
        "\n",
        "En este ejemplo se usa la librería Pandas para crear un DataFrame a partir de una lista de elementos.\n",
        "\n",
        "Se cargará la URL y se ubicará mediante el XPATH a la tabla con ID `tabla`. Luego se recuperará los valores del texto mediante `text` o también podrán obtenerse mediante `.get_attribute(\"innerHTML\")`. Cada uno de estos valores se almacenará en un diccionario de nombre item que se agregarán a la lista `tabla_list`. Finalmente, se creará un DataFrame con los valores de la lista.\n",
        "\n",
        "Una vez se tenga el DataFrame, se podrá manipular la data recolectada y empezar el proceso de análisis de data."
      ]
    },
    {
      "cell_type": "code",
      "metadata": {
        "id": "jlWLQKFBAccD"
      },
      "source": [
        "from selenium import webdriver\n",
        "import pandas as pd"
      ],
      "execution_count": null,
      "outputs": []
    },
    {
      "cell_type": "code",
      "metadata": {
        "id": "uyY5Z3mBAlZt"
      },
      "source": [
        "url = \"http://www.direccion-ejemplo.com\""
      ],
      "execution_count": null,
      "outputs": []
    },
    {
      "cell_type": "code",
      "metadata": {
        "id": "4tj-X25gAouy"
      },
      "source": [
        "driver = webdriver.Chrome()\n",
        "driver.get(url)"
      ],
      "execution_count": null,
      "outputs": []
    },
    {
      "cell_type": "code",
      "metadata": {
        "id": "KMt4T7ZQAzXz"
      },
      "source": [
        "tabla = driver.find_elements_by_xpath('//*[@id=\"tabla\"]')\n",
        "\n",
        "tabla_list = []\n",
        "\n",
        "for elemento in tabla_list:\n",
        "    campo_titulo = video.find_element_by_xpath('.//*[@id=\"titulo\"]').text\n",
        "    campo_span = video.find_element_by_xpath('.//*[@id=\"metadata\"]/span').text\n",
        "    item = {\n",
        "        'campo_titulo': campo_titulo,\n",
        "        'campo_span': campo_span\n",
        "    }\n",
        "    tabla_list.append(item)\n",
        "\n",
        "df = pd.DataFrame(tabla_list)\n",
        "print(df)"
      ],
      "execution_count": null,
      "outputs": []
    },
    {
      "cell_type": "markdown",
      "metadata": {
        "id": "WwXJ5S85iSzv"
      },
      "source": [
        "## Scroll una página web dinámica\n",
        "\n",
        "Es útil para páginas web que no cargan todo el contenido de su web inmediatamente, sino que a medida que vas haciendo scroll va apareciendo más contenido.\n",
        "\n",
        "Para ello, se cargará la URL, se recuperará la sesión y se hará el scroll. Se ubicará un elemento con el identificador `tabla` y se iterará sus elementos. Estos elementos serán almacenados en un diccionario y se imprimirán en pantalla.\n"
      ]
    },
    {
      "cell_type": "code",
      "metadata": {
        "id": "w5Mu-jpcid35"
      },
      "source": [
        "from requests_html import HTMLSession"
      ],
      "execution_count": null,
      "outputs": []
    },
    {
      "cell_type": "code",
      "metadata": {
        "id": "N8_uKQ2biktm"
      },
      "source": [
        "url = \"http://www.direccion-ejemplo.com\""
      ],
      "execution_count": null,
      "outputs": []
    },
    {
      "cell_type": "code",
      "metadata": {
        "id": "xZR7SY3rih_R"
      },
      "source": [
        "session = HTMLSession()\n",
        "r = session.get(url)\n",
        "r.html.render(sleep=1, keep_page=True, scrolldown=1)"
      ],
      "execution_count": null,
      "outputs": []
    },
    {
      "cell_type": "code",
      "metadata": {
        "id": "vukoF3YIiwPx"
      },
      "source": [
        "tabla = r.html.find('#tabla')\n",
        "\n",
        "for elementos in tabla:\n",
        "    item = {\n",
        "        'titulo': elementos.text,\n",
        "        'link': elementos.absolite_links\n",
        "    }\n",
        "    print(item)"
      ],
      "execution_count": null,
      "outputs": []
    },
    {
      "cell_type": "markdown",
      "metadata": {
        "id": "TE10WrhkkqHB"
      },
      "source": [
        "# BONUS: Consumir un API\n",
        "\n",
        "Este ejemplo muestra el consumo de un API mediante la librería Requests mediante el método POST.\n",
        "\n",
        "Luego, se muestra un ejemplo colocando las mismas líneas de código dentro de una función. Esta función será iterada por los días de la semana. Para finalmente completar un DataFrame que será filtrado por valores de una columna."
      ]
    },
    {
      "cell_type": "code",
      "metadata": {
        "colab": {
          "base_uri": "https://localhost:8080/"
        },
        "id": "3mc4ILmzGXeW",
        "outputId": "e3f367c4-83a7-4eb3-8d38-6832a61494ed"
      },
      "source": [
        "!pip install requests"
      ],
      "execution_count": 9,
      "outputs": [
        {
          "output_type": "stream",
          "text": [
            "Requirement already satisfied: requests in /usr/local/lib/python3.7/dist-packages (2.23.0)\n",
            "Requirement already satisfied: chardet<4,>=3.0.2 in /usr/local/lib/python3.7/dist-packages (from requests) (3.0.4)\n",
            "Requirement already satisfied: certifi>=2017.4.17 in /usr/local/lib/python3.7/dist-packages (from requests) (2021.5.30)\n",
            "Requirement already satisfied: urllib3!=1.25.0,!=1.25.1,<1.26,>=1.21.1 in /usr/local/lib/python3.7/dist-packages (from requests) (1.24.3)\n",
            "Requirement already satisfied: idna<3,>=2.5 in /usr/local/lib/python3.7/dist-packages (from requests) (2.10)\n"
          ],
          "name": "stdout"
        }
      ]
    },
    {
      "cell_type": "code",
      "metadata": {
        "id": "QSvkNVRYkxqg",
        "colab": {
          "base_uri": "https://localhost:8080/"
        },
        "outputId": "ce8c6c6f-08e5-420b-95fa-da03d323fd99"
      },
      "source": [
        "import requests\n",
        "\n",
        "url = \"\"\n",
        "\n",
        "payload = \"{\\\"fechaClase\\\":\\\"2021-08-11\\\",\\\"idSede\\\":\\\"1\\\",\\\"unidad\\\":\\\"343\\\",\\\"jornada\\\":\\\"-1\\\",\\\"dia\\\":\\\"Lunes\\\"}\"\n",
        "\n",
        "headers = {\n",
        "    'cookie': \"_gid=GA1.2.180153173.1628450383; ASP.NET_SessionId=lk11cb4uyusmscbpeqcnum1m; _ga=GA1.1.1415120954.1623200353; _ga_20VTGECP99=GS1.1.1628712418.179.0.1628712421.0\",\n",
        "    'user-agent': \"Mozilla/5.0 (Windows NT 10.0; Win64; x64) AppleWebKit/537.36 (KHTML, like Gecko) Chrome/92.0.4515.131 Safari/537.36\",\n",
        "    'accept': \"application/json, text/javascript, */*; q=0.01\",\n",
        "    'accept-language': \"es-419,es;q=0.9,en;q=0.8\",\n",
        "    'referer': \"\",\n",
        "    'content-type': \"application/json; charset=UTF-8\",\n",
        "    'origin': \"\"\n",
        "}\n",
        "\n",
        "response = requests.request(\"POST\",\n",
        "                           url,\n",
        "                           data=payload,\n",
        "                           headers=headers)\n",
        "\n",
        "print(response.text)"
      ],
      "execution_count": 10,
      "outputs": [
        {
          "output_type": "stream",
          "text": [
            "{\"d\":\"[]\"}\n"
          ],
          "name": "stdout"
        }
      ]
    },
    {
      "cell_type": "code",
      "metadata": {
        "id": "3hWVDf8_Gh2u"
      },
      "source": [
        "import json\n",
        "import requests\n",
        "from datetime import date\n",
        "\n",
        "def obtener_fecha_actual():\n",
        "    today = date.today()\n",
        "    # Formato : \"2021-08-27\"\n",
        "    month = today.month if today.month > 9 else \"0\" + str(today.month)\n",
        "    day = today.day if today.day > 9 else \"0\" + str(today.day)\n",
        "    return f\"{today.year}-{month}-{day}\"\n",
        "\n",
        "dict_dias_semana = [\"Lunes\",\"Martes\",\"Miercoles\",\"Jueves\",\"Viernes\",\"Sabado\"]\n",
        "\n",
        "def obtener_horarios_disponibles(url, dict_dias_semana=dict_dias_semana):\n",
        "    today = obtener_fecha_actual()\n",
        "\n",
        "    headers = {\n",
        "        'cookie': \"_gid=GA1.2.180153173.1628450383; ASP.NET_SessionId=lk11cb4uyusmscbpeqcnum1m; _ga=GA1.1.1415120954.1623200353; _ga_20VTGECP99=GS1.1.1628712418.179.0.1628712421.0\",\n",
        "        'user-agent': \"Mozilla/5.0 (Windows NT 10.0; Win64; x64) AppleWebKit/537.36 (KHTML, like Gecko) Chrome/92.0.4515.131 Safari/537.36\",\n",
        "        'accept': \"application/json, text/javascript, */*; q=0.01\",\n",
        "        'accept-language': \"es-419,es;q=0.9,en;q=0.8\",\n",
        "        'referer': \"\",\n",
        "        'content-type': \"application/json; charset=UTF-8\",\n",
        "        'origin': \"\"\n",
        "    }\n",
        "\n",
        "    list_horarios = []\n",
        "    for dia_semana in dict_dias_semana:\n",
        "        payload = json.dumps({\n",
        "            'fechaClase':today,\n",
        "            'idSede':\"1\",\n",
        "            'unidad':\"343\",\n",
        "            'jornada':\"-1\",\n",
        "            \"dia\":dia_semana\n",
        "        })\n",
        "\n",
        "        response = requests.request(\"POST\",\n",
        "                                    url,\n",
        "                                    data=payload,\n",
        "                                    headers=headers)\n",
        "\n",
        "        dict_data = json.loads(response.text)\n",
        "        dict_data = json.loads(dict_data[\"d\"])\n",
        "        for data in dict_data:\n",
        "            horario_item = {'Dia':data['Dia'],\n",
        "                            'HoraIni':data['HoraIni'],\n",
        "                            'HoraFin':data['HoraFin'],\n",
        "                            'NombreActividad':data['NombreActividad'],\n",
        "                            'Profesor':str(data['Profesor']).replace(\"  \", \" \").upper()\n",
        "                            }\n",
        "            list_horarios.append(horario_item)\n",
        "\n",
        "    df = pd.DataFrame(list_horarios)\n",
        "    return df\n",
        "\n",
        "df_horarios = obtener_horarios_disponibles(url)"
      ],
      "execution_count": 11,
      "outputs": []
    },
    {
      "cell_type": "code",
      "metadata": {
        "id": "XouaTDw3T4yf",
        "colab": {
          "base_uri": "https://localhost:8080/",
          "height": 362
        },
        "outputId": "5a688cd5-da48-4a73-fdcc-a86aec267621"
      },
      "source": [
        "df_horarios.head(10)"
      ],
      "execution_count": 12,
      "outputs": [
        {
          "output_type": "execute_result",
          "data": {
            "text/html": [
              "<div>\n",
              "<style scoped>\n",
              "    .dataframe tbody tr th:only-of-type {\n",
              "        vertical-align: middle;\n",
              "    }\n",
              "\n",
              "    .dataframe tbody tr th {\n",
              "        vertical-align: top;\n",
              "    }\n",
              "\n",
              "    .dataframe thead th {\n",
              "        text-align: right;\n",
              "    }\n",
              "</style>\n",
              "<table border=\"1\" class=\"dataframe\">\n",
              "  <thead>\n",
              "    <tr style=\"text-align: right;\">\n",
              "      <th></th>\n",
              "      <th>Dia</th>\n",
              "      <th>HoraIni</th>\n",
              "      <th>HoraFin</th>\n",
              "      <th>NombreActividad</th>\n",
              "      <th>Profesor</th>\n",
              "    </tr>\n",
              "  </thead>\n",
              "  <tbody>\n",
              "    <tr>\n",
              "      <th>0</th>\n",
              "      <td>Jueves</td>\n",
              "      <td>07:00</td>\n",
              "      <td>08:00</td>\n",
              "      <td>VOCABULARY Books 2a4</td>\n",
              "      <td>nombre_profesor_1</td>\n",
              "    </tr>\n",
              "    <tr>\n",
              "      <th>1</th>\n",
              "      <td>Jueves</td>\n",
              "      <td>07:00</td>\n",
              "      <td>08:00</td>\n",
              "      <td>VOCABULARY Books 2a4</td>\n",
              "      <td>nombre_profesor_1</td>\n",
              "    </tr>\n",
              "    <tr>\n",
              "      <th>2</th>\n",
              "      <td>Jueves</td>\n",
              "      <td>08:00</td>\n",
              "      <td>09:00</td>\n",
              "      <td>ENGLISH IN CONTEXT Books 2a4</td>\n",
              "      <td>nombre_profesor_1</td>\n",
              "    </tr>\n",
              "    <tr>\n",
              "      <th>3</th>\n",
              "      <td>Jueves</td>\n",
              "      <td>08:00</td>\n",
              "      <td>09:00</td>\n",
              "      <td>ENGLISH IN CONTEXT Books 2a4</td>\n",
              "      <td>nombre_profesor_1</td>\n",
              "    </tr>\n",
              "    <tr>\n",
              "      <th>4</th>\n",
              "      <td>Jueves</td>\n",
              "      <td>09:00</td>\n",
              "      <td>10:00</td>\n",
              "      <td>PHONETICS Books 2a4</td>\n",
              "      <td>nombre_profesor_1</td>\n",
              "    </tr>\n",
              "    <tr>\n",
              "      <th>5</th>\n",
              "      <td>Jueves</td>\n",
              "      <td>10:00</td>\n",
              "      <td>11:00</td>\n",
              "      <td>READING Books 2a4</td>\n",
              "      <td>nombre_profesor_1</td>\n",
              "    </tr>\n",
              "    <tr>\n",
              "      <th>6</th>\n",
              "      <td>Jueves</td>\n",
              "      <td>10:00</td>\n",
              "      <td>11:00</td>\n",
              "      <td>READING Books 2a4</td>\n",
              "      <td>nombre_profesor_1</td>\n",
              "    </tr>\n",
              "    <tr>\n",
              "      <th>7</th>\n",
              "      <td>Jueves</td>\n",
              "      <td>10:00</td>\n",
              "      <td>11:00</td>\n",
              "      <td>READING Books 2a4</td>\n",
              "      <td>nombre_profesor_1</td>\n",
              "    </tr>\n",
              "    <tr>\n",
              "      <th>8</th>\n",
              "      <td>Jueves</td>\n",
              "      <td>11:00</td>\n",
              "      <td>12:00</td>\n",
              "      <td>GAMES Books 2a4</td>\n",
              "      <td>nombre_profesor_1</td>\n",
              "    </tr>\n",
              "    <tr>\n",
              "      <th>9</th>\n",
              "      <td>Jueves</td>\n",
              "      <td>11:00</td>\n",
              "      <td>12:00</td>\n",
              "      <td>GAMES Books 2a4</td>\n",
              "      <td>nombre_profesor_1</td>\n",
              "    </tr>\n",
              "  </tbody>\n",
              "</table>\n",
              "</div>"
            ],
            "text/plain": [
              "      Dia HoraIni HoraFin               NombreActividad           Profesor\n",
              "0  Jueves   07:00   08:00          VOCABULARY Books 2a4  nombre_profesor_1\n",
              "1  Jueves   07:00   08:00          VOCABULARY Books 2a4  nombre_profesor_1\n",
              "2  Jueves   08:00   09:00  ENGLISH IN CONTEXT Books 2a4  nombre_profesor_1\n",
              "3  Jueves   08:00   09:00  ENGLISH IN CONTEXT Books 2a4  nombre_profesor_1\n",
              "4  Jueves   09:00   10:00           PHONETICS Books 2a4  nombre_profesor_1\n",
              "5  Jueves   10:00   11:00             READING Books 2a4  nombre_profesor_1\n",
              "6  Jueves   10:00   11:00             READING Books 2a4  nombre_profesor_1\n",
              "7  Jueves   10:00   11:00             READING Books 2a4  nombre_profesor_1\n",
              "8  Jueves   11:00   12:00               GAMES Books 2a4  nombre_profesor_1\n",
              "9  Jueves   11:00   12:00               GAMES Books 2a4  nombre_profesor_1"
            ]
          },
          "metadata": {
            "tags": []
          },
          "execution_count": 12
        }
      ]
    },
    {
      "cell_type": "markdown",
      "metadata": {
        "id": "Xgz0GpImV4YQ"
      },
      "source": [
        "A partir del DataFrame filtro las clases que dictan los profesores. Para esto, me apoyo de una lista de elementos con los nombres de los profesores."
      ]
    },
    {
      "cell_type": "code",
      "metadata": {
        "id": "9eOVm8EHV1M7",
        "colab": {
          "base_uri": "https://localhost:8080/",
          "height": 422
        },
        "outputId": "07432eb4-dd9d-456c-d7a0-93e7c7d05aa5"
      },
      "source": [
        "list_profesores = ['nombre_profesor_1','nombre_profesor_2']\n",
        "df_horarios[df_horarios['Profesor'].isin(list_profesores)]"
      ],
      "execution_count": 13,
      "outputs": [
        {
          "output_type": "execute_result",
          "data": {
            "text/html": [
              "<div>\n",
              "<style scoped>\n",
              "    .dataframe tbody tr th:only-of-type {\n",
              "        vertical-align: middle;\n",
              "    }\n",
              "\n",
              "    .dataframe tbody tr th {\n",
              "        vertical-align: top;\n",
              "    }\n",
              "\n",
              "    .dataframe thead th {\n",
              "        text-align: right;\n",
              "    }\n",
              "</style>\n",
              "<table border=\"1\" class=\"dataframe\">\n",
              "  <thead>\n",
              "    <tr style=\"text-align: right;\">\n",
              "      <th></th>\n",
              "      <th>Dia</th>\n",
              "      <th>HoraIni</th>\n",
              "      <th>HoraFin</th>\n",
              "      <th>NombreActividad</th>\n",
              "      <th>Profesor</th>\n",
              "    </tr>\n",
              "  </thead>\n",
              "  <tbody>\n",
              "    <tr>\n",
              "      <th>0</th>\n",
              "      <td>Jueves</td>\n",
              "      <td>07:00</td>\n",
              "      <td>08:00</td>\n",
              "      <td>VOCABULARY Books 2a4</td>\n",
              "      <td>nombre_profesor_1</td>\n",
              "    </tr>\n",
              "    <tr>\n",
              "      <th>1</th>\n",
              "      <td>Jueves</td>\n",
              "      <td>07:00</td>\n",
              "      <td>08:00</td>\n",
              "      <td>VOCABULARY Books 2a4</td>\n",
              "      <td>nombre_profesor_1</td>\n",
              "    </tr>\n",
              "    <tr>\n",
              "      <th>2</th>\n",
              "      <td>Jueves</td>\n",
              "      <td>08:00</td>\n",
              "      <td>09:00</td>\n",
              "      <td>ENGLISH IN CONTEXT Books 2a4</td>\n",
              "      <td>nombre_profesor_1</td>\n",
              "    </tr>\n",
              "    <tr>\n",
              "      <th>3</th>\n",
              "      <td>Jueves</td>\n",
              "      <td>08:00</td>\n",
              "      <td>09:00</td>\n",
              "      <td>ENGLISH IN CONTEXT Books 2a4</td>\n",
              "      <td>nombre_profesor_1</td>\n",
              "    </tr>\n",
              "    <tr>\n",
              "      <th>4</th>\n",
              "      <td>Jueves</td>\n",
              "      <td>09:00</td>\n",
              "      <td>10:00</td>\n",
              "      <td>PHONETICS Books 2a4</td>\n",
              "      <td>nombre_profesor_1</td>\n",
              "    </tr>\n",
              "    <tr>\n",
              "      <th>...</th>\n",
              "      <td>...</td>\n",
              "      <td>...</td>\n",
              "      <td>...</td>\n",
              "      <td>...</td>\n",
              "      <td>...</td>\n",
              "    </tr>\n",
              "    <tr>\n",
              "      <th>60</th>\n",
              "      <td>Sabado</td>\n",
              "      <td>15:00</td>\n",
              "      <td>16:00</td>\n",
              "      <td>WRITING Books 2a4</td>\n",
              "      <td>nombre_profesor_1</td>\n",
              "    </tr>\n",
              "    <tr>\n",
              "      <th>61</th>\n",
              "      <td>Sabado</td>\n",
              "      <td>15:00</td>\n",
              "      <td>16:00</td>\n",
              "      <td>WRITING Books 2a4</td>\n",
              "      <td>nombre_profesor_1</td>\n",
              "    </tr>\n",
              "    <tr>\n",
              "      <th>62</th>\n",
              "      <td>Sabado</td>\n",
              "      <td>15:00</td>\n",
              "      <td>16:00</td>\n",
              "      <td>WRITING Books 2a4</td>\n",
              "      <td>nombre_profesor_1</td>\n",
              "    </tr>\n",
              "    <tr>\n",
              "      <th>63</th>\n",
              "      <td>Sabado</td>\n",
              "      <td>16:00</td>\n",
              "      <td>17:00</td>\n",
              "      <td>VOCABULARY Books 2a4</td>\n",
              "      <td>nombre_profesor_1</td>\n",
              "    </tr>\n",
              "    <tr>\n",
              "      <th>64</th>\n",
              "      <td>Sabado</td>\n",
              "      <td>16:00</td>\n",
              "      <td>17:00</td>\n",
              "      <td>VOCABULARY Books 2a4</td>\n",
              "      <td>nombre_profesor_1</td>\n",
              "    </tr>\n",
              "  </tbody>\n",
              "</table>\n",
              "<p>65 rows × 5 columns</p>\n",
              "</div>"
            ],
            "text/plain": [
              "       Dia HoraIni HoraFin               NombreActividad           Profesor\n",
              "0   Jueves   07:00   08:00          VOCABULARY Books 2a4  nombre_profesor_1\n",
              "1   Jueves   07:00   08:00          VOCABULARY Books 2a4  nombre_profesor_1\n",
              "2   Jueves   08:00   09:00  ENGLISH IN CONTEXT Books 2a4  nombre_profesor_1\n",
              "3   Jueves   08:00   09:00  ENGLISH IN CONTEXT Books 2a4  nombre_profesor_1\n",
              "4   Jueves   09:00   10:00           PHONETICS Books 2a4  nombre_profesor_1\n",
              "..     ...     ...     ...                           ...                ...\n",
              "60  Sabado   15:00   16:00             WRITING Books 2a4  nombre_profesor_1\n",
              "61  Sabado   15:00   16:00             WRITING Books 2a4  nombre_profesor_1\n",
              "62  Sabado   15:00   16:00             WRITING Books 2a4  nombre_profesor_1\n",
              "63  Sabado   16:00   17:00          VOCABULARY Books 2a4  nombre_profesor_1\n",
              "64  Sabado   16:00   17:00          VOCABULARY Books 2a4  nombre_profesor_1\n",
              "\n",
              "[65 rows x 5 columns]"
            ]
          },
          "metadata": {
            "tags": []
          },
          "execution_count": 13
        }
      ]
    },
    {
      "cell_type": "markdown",
      "metadata": {
        "id": "_RC4SxdFOAQ1"
      },
      "source": [
        "Consultando registro con índice 45 y sólo muestra el nombre del profesor."
      ]
    },
    {
      "cell_type": "code",
      "metadata": {
        "id": "ap8-gQYmXRj6",
        "colab": {
          "base_uri": "https://localhost:8080/",
          "height": 35
        },
        "outputId": "31e8badf-cced-4ca7-cf01-09df42311df9"
      },
      "source": [
        "df_horarios.iloc[45]['Profesor']"
      ],
      "execution_count": 14,
      "outputs": [
        {
          "output_type": "execute_result",
          "data": {
            "application/vnd.google.colaboratory.intrinsic+json": {
              "type": "string"
            },
            "text/plain": [
              "'nombre_profesor_1'"
            ]
          },
          "metadata": {
            "tags": []
          },
          "execution_count": 14
        }
      ]
    },
    {
      "cell_type": "markdown",
      "metadata": {
        "id": "osRVxl3kopn5"
      },
      "source": [
        "# BONUS: Obtener horarios de clase de Inglés\n",
        "\n",
        "Utilizando Selenium ingresaré al portal web de clases de inglés y consultaré los horarios de clase disponibles. Para esto tendré que instalar algunas librerías en Google Colab y copiar el contenido de la carpeta del navegador Chrome para que Selenium pueda reconocerlo empezar a interactuar con el portal web de horario de clases."
      ]
    },
    {
      "cell_type": "code",
      "metadata": {
        "id": "6KAGdf-NpVsX",
        "colab": {
          "base_uri": "https://localhost:8080/"
        },
        "outputId": "7ada4493-cb0a-41bc-ff70-753c79d049fc"
      },
      "source": [
        "!pip install selenium\n",
        "!apt-get update # to update ubuntu to correctly run apt install\n",
        "!apt install chromium-chromedriver\n",
        "!cp /usr/lib/chromium-browser/chromedriver /usr/bin"
      ],
      "execution_count": 1,
      "outputs": [
        {
          "output_type": "stream",
          "text": [
            "Collecting selenium\n",
            "  Downloading selenium-3.141.0-py2.py3-none-any.whl (904 kB)\n",
            "\u001b[?25l\r\u001b[K     |▍                               | 10 kB 15.1 MB/s eta 0:00:01\r\u001b[K     |▊                               | 20 kB 18.8 MB/s eta 0:00:01\r\u001b[K     |█                               | 30 kB 23.2 MB/s eta 0:00:01\r\u001b[K     |█▌                              | 40 kB 25.2 MB/s eta 0:00:01\r\u001b[K     |█▉                              | 51 kB 27.6 MB/s eta 0:00:01\r\u001b[K     |██▏                             | 61 kB 29.1 MB/s eta 0:00:01\r\u001b[K     |██▌                             | 71 kB 30.2 MB/s eta 0:00:01\r\u001b[K     |███                             | 81 kB 30.6 MB/s eta 0:00:01\r\u001b[K     |███▎                            | 92 kB 32.1 MB/s eta 0:00:01\r\u001b[K     |███▋                            | 102 kB 30.9 MB/s eta 0:00:01\r\u001b[K     |████                            | 112 kB 30.9 MB/s eta 0:00:01\r\u001b[K     |████▍                           | 122 kB 30.9 MB/s eta 0:00:01\r\u001b[K     |████▊                           | 133 kB 30.9 MB/s eta 0:00:01\r\u001b[K     |█████                           | 143 kB 30.9 MB/s eta 0:00:01\r\u001b[K     |█████▍                          | 153 kB 30.9 MB/s eta 0:00:01\r\u001b[K     |█████▉                          | 163 kB 30.9 MB/s eta 0:00:01\r\u001b[K     |██████▏                         | 174 kB 30.9 MB/s eta 0:00:01\r\u001b[K     |██████▌                         | 184 kB 30.9 MB/s eta 0:00:01\r\u001b[K     |██████▉                         | 194 kB 30.9 MB/s eta 0:00:01\r\u001b[K     |███████▎                        | 204 kB 30.9 MB/s eta 0:00:01\r\u001b[K     |███████▋                        | 215 kB 30.9 MB/s eta 0:00:01\r\u001b[K     |████████                        | 225 kB 30.9 MB/s eta 0:00:01\r\u001b[K     |████████▎                       | 235 kB 30.9 MB/s eta 0:00:01\r\u001b[K     |████████▊                       | 245 kB 30.9 MB/s eta 0:00:01\r\u001b[K     |█████████                       | 256 kB 30.9 MB/s eta 0:00:01\r\u001b[K     |█████████▍                      | 266 kB 30.9 MB/s eta 0:00:01\r\u001b[K     |█████████▉                      | 276 kB 30.9 MB/s eta 0:00:01\r\u001b[K     |██████████▏                     | 286 kB 30.9 MB/s eta 0:00:01\r\u001b[K     |██████████▌                     | 296 kB 30.9 MB/s eta 0:00:01\r\u001b[K     |██████████▉                     | 307 kB 30.9 MB/s eta 0:00:01\r\u001b[K     |███████████▎                    | 317 kB 30.9 MB/s eta 0:00:01\r\u001b[K     |███████████▋                    | 327 kB 30.9 MB/s eta 0:00:01\r\u001b[K     |████████████                    | 337 kB 30.9 MB/s eta 0:00:01\r\u001b[K     |████████████▎                   | 348 kB 30.9 MB/s eta 0:00:01\r\u001b[K     |████████████▊                   | 358 kB 30.9 MB/s eta 0:00:01\r\u001b[K     |█████████████                   | 368 kB 30.9 MB/s eta 0:00:01\r\u001b[K     |█████████████▍                  | 378 kB 30.9 MB/s eta 0:00:01\r\u001b[K     |█████████████▊                  | 389 kB 30.9 MB/s eta 0:00:01\r\u001b[K     |██████████████▏                 | 399 kB 30.9 MB/s eta 0:00:01\r\u001b[K     |██████████████▌                 | 409 kB 30.9 MB/s eta 0:00:01\r\u001b[K     |██████████████▉                 | 419 kB 30.9 MB/s eta 0:00:01\r\u001b[K     |███████████████▏                | 430 kB 30.9 MB/s eta 0:00:01\r\u001b[K     |███████████████▋                | 440 kB 30.9 MB/s eta 0:00:01\r\u001b[K     |████████████████                | 450 kB 30.9 MB/s eta 0:00:01\r\u001b[K     |████████████████▎               | 460 kB 30.9 MB/s eta 0:00:01\r\u001b[K     |████████████████▋               | 471 kB 30.9 MB/s eta 0:00:01\r\u001b[K     |█████████████████               | 481 kB 30.9 MB/s eta 0:00:01\r\u001b[K     |█████████████████▍              | 491 kB 30.9 MB/s eta 0:00:01\r\u001b[K     |█████████████████▊              | 501 kB 30.9 MB/s eta 0:00:01\r\u001b[K     |██████████████████▏             | 512 kB 30.9 MB/s eta 0:00:01\r\u001b[K     |██████████████████▌             | 522 kB 30.9 MB/s eta 0:00:01\r\u001b[K     |██████████████████▉             | 532 kB 30.9 MB/s eta 0:00:01\r\u001b[K     |███████████████████▏            | 542 kB 30.9 MB/s eta 0:00:01\r\u001b[K     |███████████████████▋            | 552 kB 30.9 MB/s eta 0:00:01\r\u001b[K     |████████████████████            | 563 kB 30.9 MB/s eta 0:00:01\r\u001b[K     |████████████████████▎           | 573 kB 30.9 MB/s eta 0:00:01\r\u001b[K     |████████████████████▋           | 583 kB 30.9 MB/s eta 0:00:01\r\u001b[K     |█████████████████████           | 593 kB 30.9 MB/s eta 0:00:01\r\u001b[K     |█████████████████████▍          | 604 kB 30.9 MB/s eta 0:00:01\r\u001b[K     |█████████████████████▊          | 614 kB 30.9 MB/s eta 0:00:01\r\u001b[K     |██████████████████████          | 624 kB 30.9 MB/s eta 0:00:01\r\u001b[K     |██████████████████████▌         | 634 kB 30.9 MB/s eta 0:00:01\r\u001b[K     |██████████████████████▉         | 645 kB 30.9 MB/s eta 0:00:01\r\u001b[K     |███████████████████████▏        | 655 kB 30.9 MB/s eta 0:00:01\r\u001b[K     |███████████████████████▌        | 665 kB 30.9 MB/s eta 0:00:01\r\u001b[K     |████████████████████████        | 675 kB 30.9 MB/s eta 0:00:01\r\u001b[K     |████████████████████████▎       | 686 kB 30.9 MB/s eta 0:00:01\r\u001b[K     |████████████████████████▋       | 696 kB 30.9 MB/s eta 0:00:01\r\u001b[K     |█████████████████████████       | 706 kB 30.9 MB/s eta 0:00:01\r\u001b[K     |█████████████████████████▍      | 716 kB 30.9 MB/s eta 0:00:01\r\u001b[K     |█████████████████████████▊      | 727 kB 30.9 MB/s eta 0:00:01\r\u001b[K     |██████████████████████████      | 737 kB 30.9 MB/s eta 0:00:01\r\u001b[K     |██████████████████████████▍     | 747 kB 30.9 MB/s eta 0:00:01\r\u001b[K     |██████████████████████████▉     | 757 kB 30.9 MB/s eta 0:00:01\r\u001b[K     |███████████████████████████▏    | 768 kB 30.9 MB/s eta 0:00:01\r\u001b[K     |███████████████████████████▌    | 778 kB 30.9 MB/s eta 0:00:01\r\u001b[K     |████████████████████████████    | 788 kB 30.9 MB/s eta 0:00:01\r\u001b[K     |████████████████████████████▎   | 798 kB 30.9 MB/s eta 0:00:01\r\u001b[K     |████████████████████████████▋   | 808 kB 30.9 MB/s eta 0:00:01\r\u001b[K     |█████████████████████████████   | 819 kB 30.9 MB/s eta 0:00:01\r\u001b[K     |█████████████████████████████▍  | 829 kB 30.9 MB/s eta 0:00:01\r\u001b[K     |█████████████████████████████▊  | 839 kB 30.9 MB/s eta 0:00:01\r\u001b[K     |██████████████████████████████  | 849 kB 30.9 MB/s eta 0:00:01\r\u001b[K     |██████████████████████████████▍ | 860 kB 30.9 MB/s eta 0:00:01\r\u001b[K     |██████████████████████████████▉ | 870 kB 30.9 MB/s eta 0:00:01\r\u001b[K     |███████████████████████████████▏| 880 kB 30.9 MB/s eta 0:00:01\r\u001b[K     |███████████████████████████████▌| 890 kB 30.9 MB/s eta 0:00:01\r\u001b[K     |███████████████████████████████▉| 901 kB 30.9 MB/s eta 0:00:01\r\u001b[K     |████████████████████████████████| 904 kB 30.9 MB/s \n",
            "\u001b[?25hRequirement already satisfied: urllib3 in /usr/local/lib/python3.7/dist-packages (from selenium) (1.24.3)\n",
            "Installing collected packages: selenium\n",
            "Successfully installed selenium-3.141.0\n",
            "Get:1 http://security.ubuntu.com/ubuntu bionic-security InRelease [88.7 kB]\n",
            "Get:2 https://cloud.r-project.org/bin/linux/ubuntu bionic-cran40/ InRelease [3,626 B]\n",
            "Ign:3 https://developer.download.nvidia.com/compute/cuda/repos/ubuntu1804/x86_64  InRelease\n",
            "Get:4 http://ppa.launchpad.net/c2d4u.team/c2d4u4.0+/ubuntu bionic InRelease [15.9 kB]\n",
            "Hit:5 http://archive.ubuntu.com/ubuntu bionic InRelease\n",
            "Ign:6 https://developer.download.nvidia.com/compute/machine-learning/repos/ubuntu1804/x86_64  InRelease\n",
            "Get:7 https://developer.download.nvidia.com/compute/cuda/repos/ubuntu1804/x86_64  Release [697 B]\n",
            "Hit:8 https://developer.download.nvidia.com/compute/machine-learning/repos/ubuntu1804/x86_64  Release\n",
            "Get:9 https://developer.download.nvidia.com/compute/cuda/repos/ubuntu1804/x86_64  Release.gpg [836 B]\n",
            "Get:10 http://archive.ubuntu.com/ubuntu bionic-updates InRelease [88.7 kB]\n",
            "Hit:11 http://ppa.launchpad.net/cran/libgit2/ubuntu bionic InRelease\n",
            "Get:12 https://cloud.r-project.org/bin/linux/ubuntu bionic-cran40/ Packages [66.2 kB]\n",
            "Get:13 http://archive.ubuntu.com/ubuntu bionic-backports InRelease [74.6 kB]\n",
            "Get:14 http://ppa.launchpad.net/deadsnakes/ppa/ubuntu bionic InRelease [15.9 kB]\n",
            "Get:15 http://ppa.launchpad.net/graphics-drivers/ppa/ubuntu bionic InRelease [21.3 kB]\n",
            "Get:16 http://security.ubuntu.com/ubuntu bionic-security/main amd64 Packages [2,263 kB]\n",
            "Get:17 http://security.ubuntu.com/ubuntu bionic-security/universe amd64 Packages [1,421 kB]\n",
            "Get:18 http://security.ubuntu.com/ubuntu bionic-security/multiverse amd64 Packages [26.7 kB]\n",
            "Get:19 http://security.ubuntu.com/ubuntu bionic-security/restricted amd64 Packages [510 kB]\n",
            "Get:21 http://ppa.launchpad.net/c2d4u.team/c2d4u4.0+/ubuntu bionic/main Sources [1,786 kB]\n",
            "Ign:22 https://developer.download.nvidia.com/compute/cuda/repos/ubuntu1804/x86_64  Packages\n",
            "Get:22 https://developer.download.nvidia.com/compute/cuda/repos/ubuntu1804/x86_64  Packages [695 kB]\n",
            "Get:23 http://ppa.launchpad.net/c2d4u.team/c2d4u4.0+/ubuntu bionic/main amd64 Packages [914 kB]\n",
            "Get:24 http://archive.ubuntu.com/ubuntu bionic-updates/main amd64 Packages [2,699 kB]\n",
            "Get:25 http://archive.ubuntu.com/ubuntu bionic-updates/multiverse amd64 Packages [39.4 kB]\n",
            "Get:26 http://archive.ubuntu.com/ubuntu bionic-updates/universe amd64 Packages [2,196 kB]\n",
            "Get:27 http://archive.ubuntu.com/ubuntu bionic-updates/restricted amd64 Packages [544 kB]\n",
            "Get:28 http://ppa.launchpad.net/deadsnakes/ppa/ubuntu bionic/main amd64 Packages [40.9 kB]\n",
            "Get:29 http://ppa.launchpad.net/graphics-drivers/ppa/ubuntu bionic/main amd64 Packages [44.1 kB]\n",
            "Fetched 13.6 MB in 4s (3,160 kB/s)\n",
            "Reading package lists... Done\n",
            "Reading package lists... Done\n",
            "Building dependency tree       \n",
            "Reading state information... Done\n",
            "The following additional packages will be installed:\n",
            "  chromium-browser chromium-browser-l10n chromium-codecs-ffmpeg-extra\n",
            "Suggested packages:\n",
            "  webaccounts-chromium-extension unity-chromium-extension\n",
            "The following NEW packages will be installed:\n",
            "  chromium-browser chromium-browser-l10n chromium-chromedriver\n",
            "  chromium-codecs-ffmpeg-extra\n",
            "0 upgraded, 4 newly installed, 0 to remove and 107 not upgraded.\n",
            "Need to get 86.0 MB of archives.\n",
            "After this operation, 298 MB of additional disk space will be used.\n",
            "Get:1 http://archive.ubuntu.com/ubuntu bionic-updates/universe amd64 chromium-codecs-ffmpeg-extra amd64 91.0.4472.101-0ubuntu0.18.04.1 [1,124 kB]\n",
            "Get:2 http://archive.ubuntu.com/ubuntu bionic-updates/universe amd64 chromium-browser amd64 91.0.4472.101-0ubuntu0.18.04.1 [76.1 MB]\n",
            "Get:3 http://archive.ubuntu.com/ubuntu bionic-updates/universe amd64 chromium-browser-l10n all 91.0.4472.101-0ubuntu0.18.04.1 [3,937 kB]\n",
            "Get:4 http://archive.ubuntu.com/ubuntu bionic-updates/universe amd64 chromium-chromedriver amd64 91.0.4472.101-0ubuntu0.18.04.1 [4,837 kB]\n",
            "Fetched 86.0 MB in 3s (27.5 MB/s)\n",
            "Selecting previously unselected package chromium-codecs-ffmpeg-extra.\n",
            "(Reading database ... 160837 files and directories currently installed.)\n",
            "Preparing to unpack .../chromium-codecs-ffmpeg-extra_91.0.4472.101-0ubuntu0.18.04.1_amd64.deb ...\n",
            "Unpacking chromium-codecs-ffmpeg-extra (91.0.4472.101-0ubuntu0.18.04.1) ...\n",
            "Selecting previously unselected package chromium-browser.\n",
            "Preparing to unpack .../chromium-browser_91.0.4472.101-0ubuntu0.18.04.1_amd64.deb ...\n",
            "Unpacking chromium-browser (91.0.4472.101-0ubuntu0.18.04.1) ...\n",
            "Selecting previously unselected package chromium-browser-l10n.\n",
            "Preparing to unpack .../chromium-browser-l10n_91.0.4472.101-0ubuntu0.18.04.1_all.deb ...\n",
            "Unpacking chromium-browser-l10n (91.0.4472.101-0ubuntu0.18.04.1) ...\n",
            "Selecting previously unselected package chromium-chromedriver.\n",
            "Preparing to unpack .../chromium-chromedriver_91.0.4472.101-0ubuntu0.18.04.1_amd64.deb ...\n",
            "Unpacking chromium-chromedriver (91.0.4472.101-0ubuntu0.18.04.1) ...\n",
            "Setting up chromium-codecs-ffmpeg-extra (91.0.4472.101-0ubuntu0.18.04.1) ...\n",
            "Setting up chromium-browser (91.0.4472.101-0ubuntu0.18.04.1) ...\n",
            "update-alternatives: using /usr/bin/chromium-browser to provide /usr/bin/x-www-browser (x-www-browser) in auto mode\n",
            "update-alternatives: using /usr/bin/chromium-browser to provide /usr/bin/gnome-www-browser (gnome-www-browser) in auto mode\n",
            "Setting up chromium-chromedriver (91.0.4472.101-0ubuntu0.18.04.1) ...\n",
            "Setting up chromium-browser-l10n (91.0.4472.101-0ubuntu0.18.04.1) ...\n",
            "Processing triggers for man-db (2.8.3-2ubuntu0.1) ...\n",
            "Processing triggers for hicolor-icon-theme (0.17-2) ...\n",
            "Processing triggers for mime-support (3.60ubuntu1) ...\n",
            "Processing triggers for libc-bin (2.27-3ubuntu1.2) ...\n",
            "/sbin/ldconfig.real: /usr/local/lib/python3.7/dist-packages/ideep4py/lib/libmkldnn.so.0 is not a symbolic link\n",
            "\n",
            "cp: '/usr/lib/chromium-browser/chromedriver' and '/usr/bin/chromedriver' are the same file\n"
          ],
          "name": "stdout"
        }
      ]
    },
    {
      "cell_type": "code",
      "metadata": {
        "colab": {
          "base_uri": "https://localhost:8080/"
        },
        "id": "6RW7dVI3pVI-",
        "outputId": "9ba74615-cff6-4b4e-a385-c1f9cf6e45e4"
      },
      "source": [
        "import sys\n",
        "sys.path.insert(0,'/usr/lib/chromium-browser/chromedriver')\n",
        "from selenium import webdriver\n",
        "chrome_options = webdriver.ChromeOptions()\n",
        "chrome_options.add_argument('--headless')\n",
        "chrome_options.add_argument('--no-sandbox')\n",
        "chrome_options.add_argument('--disable-dev-shm-usage')\n",
        "wd = webdriver.Chrome('chromedriver',chrome_options=chrome_options)"
      ],
      "execution_count": 2,
      "outputs": [
        {
          "output_type": "stream",
          "text": [
            "/usr/local/lib/python3.7/dist-packages/ipykernel_launcher.py:8: DeprecationWarning: use options instead of chrome_options\n",
            "  \n"
          ],
          "name": "stderr"
        }
      ]
    },
    {
      "cell_type": "code",
      "metadata": {
        "id": "tBCteUiloy5B"
      },
      "source": [
        "from selenium.webdriver.support.ui import WebDriverWait\n",
        "from selenium.webdriver.common.by import By\n",
        "from selenium.webdriver.support import expected_conditions as EC\n",
        "from selenium.webdriver.support.ui import Select\n",
        "import pandas as pd"
      ],
      "execution_count": 3,
      "outputs": []
    },
    {
      "cell_type": "code",
      "metadata": {
        "id": "dKxpTB6sC9L8"
      },
      "source": [
        "from datetime import date\n",
        "\n",
        "def obtener_fecha_actual():\n",
        "    today = date.today()\n",
        "    # Formato : \"2021-08-27\"\n",
        "    month = today.month if today.month > 9 else \"0\" + str(today.month)\n",
        "    day = today.day if today.day > 9 else \"0\" + str(today.day)\n",
        "    return f\"{today.year}-{month}-{day}\""
      ],
      "execution_count": 4,
      "outputs": []
    },
    {
      "cell_type": "code",
      "metadata": {
        "id": "T7x40Ktno1yN"
      },
      "source": [
        "url = \"\""
      ],
      "execution_count": 5,
      "outputs": []
    },
    {
      "cell_type": "code",
      "metadata": {
        "id": "Uy9M7U1fpeyG",
        "colab": {
          "base_uri": "https://localhost:8080/"
        },
        "outputId": "e5ebb4d4-1cf3-4e71-a7ab-0b0aa8f181e3"
      },
      "source": [
        "wd.get(url)\n",
        "\n",
        "wd.find_element_by_xpath('//*[@id=\"txt_user\"]').send_keys('')\n",
        "wd.find_element_by_xpath('//*[@id=\"txt_password\"]').send_keys('')\n",
        "wd.find_element_by_xpath('//*[@id=\"Btn_login\"]').click()\n",
        "print(\"Se logró acceder con éxito a la página web.\")\n",
        "element = WebDriverWait(wd, 10).until(\n",
        "    EC.presence_of_element_located((By.LINK_TEXT, 'Reservas'))\n",
        ")\n",
        "print(\"Click en opción Reservas del menú.\")\n",
        "element.click()\n",
        "print(\"Se logró acceder a la subopción de Reservas con éxito.\")\n",
        "element = WebDriverWait(wd, 10).until(\n",
        "    #EC.presence_of_element_located((By.XPATH, '//*[@id=\"RE\"]/li/a')) # Consultar por XPATH\n",
        "    EC.presence_of_element_located((By.LINK_TEXT, 'Generacion de Reservas'))\n",
        ")\n",
        "print(\"Click en subopción Generación de Reservas del menú.\")\n",
        "element.click()\n",
        "print(\"Se logró acceder a la página de Generación de Reservas.\")\n",
        "\n",
        "element = WebDriverWait(wd, 10).until(\n",
        "    #EC.presence_of_element_located((By.ID, 'cmbNivelRes')) # Consultar por ID\n",
        "    EC.presence_of_element_located((By.XPATH, '//*[@id=\"cmbNivelRes\"]/option[1]'))\n",
        ")\n",
        "print(\"Logró cargar la página de Generación de Reservas.\")\n",
        "\n",
        "def seleccionar_valor_combobox(xpath, texto_a_seleccionar):\n",
        "    select = wd.find_element_by_xpath(xpath)\n",
        "    select = Select(select)\n",
        "    select_options = select.options\n",
        "    print(f\" Existen {len(select_options)} opciones a escoger\")\n",
        "    for index, option in enumerate(select_options):\n",
        "        option_value = option.get_attribute(\"value\")\n",
        "        option_text = option.get_attribute(\"text\")\n",
        "        print(f' Opción {option_value} - {option_text}')\n",
        "        if option_text == texto_a_seleccionar:\n",
        "            print(f\" Click en opción {texto_a_seleccionar}.\")\n",
        "            select.select_by_index(index)\n",
        "            print(f\" Se logró seleccionar la opción {texto_a_seleccionar}.\")\n",
        "            break\n",
        "\n",
        "print(\"Accediendo a los niveles disponibles ...\")\n",
        "seleccionar_valor_combobox(xpath='//*[@id=\"cmbNivelRes\"]', texto_a_seleccionar='WORKSHOPS')\n",
        "\n",
        "print(\"Cargando las unidades disponibles ...\")\n",
        "element = WebDriverWait(wd, 10).until(\n",
        "    EC.presence_of_element_located((By.XPATH, '//*[@id=\"cmbUnidadRes\"]/option[1]'))\n",
        ")\n",
        "print(\"Accediendo a las unidades disponibles ...\")\n",
        "seleccionar_valor_combobox(xpath='//*[@id=\"cmbUnidadRes\"]', texto_a_seleccionar='Actividad Practica Books 2 a 4')\n",
        "\n",
        "print(\"Seleccionando la fecha de reserva ...\")\n",
        "fecha_clase = wd.find_element_by_id('txt_FechaClase')\n",
        "fecha_hoy = obtener_fecha_actual()\n",
        "fecha_clase_wait = WebDriverWait(wd, 10).until(\n",
        "    EC.presence_of_element_located((By.ID, 'txt_FechaClase'))\n",
        ")\n",
        "print(f\" Se asignará fecha {fecha_hoy}.\")\n",
        "wd.execute_script(f\"document.getElementById('txt_FechaClase').value = '{fecha_hoy}'\")\n",
        "print(f\" Se asignó fecha {fecha_clase.get_attribute('value')}.\")\n",
        "\n",
        "print(\"Consultando horarios disponibles ...\")\n",
        "element = WebDriverWait(wd, 10).until(\n",
        "    EC.presence_of_element_located((By.LINK_TEXT, 'Consultar'))\n",
        ")\n",
        "if element.is_displayed() and element.is_enabled():\n",
        "    print(\"Click en boton\")\n",
        "    element.click()\n",
        "\n",
        "print(\"Consultando horarios disponibles del día jueves ...\")\n",
        "tabla_horarios = WebDriverWait(wd, 10).until(\n",
        "    EC.presence_of_element_located((By.XPATH, '//*[@id=\"ReservasdivTablaJue\"]/tbody'))\n",
        ")\n",
        "\n",
        "print(\"Mostrando los valores de la lista de horarios del día jueves ...\")\n",
        "rows = len(wd.find_elements_by_xpath('//*[@id=\"ReservasdivTablaJue\"]/tbody/tr'))\n",
        "cols = len(wd.find_elements_by_xpath('//*[@id=\"ReservasdivTablaJue\"]/tbody/tr[1]/td'))\n",
        "\n",
        "for row in range(2, rows+1):\n",
        "    for col in range(1, cols+1):\n",
        "        dato = wd.find_element_by_xpath('//*[@id=\"ReservasdivTablaJue\"]/tbody/tr['+str(row)+']/td['+str(col)+']')\n",
        "        if col in [2,3,4,5]:\n",
        "            print(dato.get_attribute(\"innerHTML\"), end='   ')\n",
        "    print()"
      ],
      "execution_count": 8,
      "outputs": [
        {
          "output_type": "stream",
          "text": [
            "Se logró acceder con éxito a la página web.\n",
            "Click en opción Reservas del menú.\n",
            "Se logró acceder a la subopción de Reservas con éxito.\n",
            "Click en subopción Generación de Reservas del menú.\n",
            "Se logró acceder a la página de Generación de Reservas.\n",
            "Logró cargar la página de Generación de Reservas.\n",
            "Accediendo a los niveles disponibles ...\n",
            " Existen 2 opciones a escoger\n",
            " Opción -1 - -- Seleccione --\n",
            " Opción 5 - WORKSHOPS\n",
            " Click en opción WORKSHOPS.\n",
            " Se logró seleccionar la opción WORKSHOPS.\n",
            "Cargando las unidades disponibles ...\n",
            "Accediendo a las unidades disponibles ...\n",
            " Existen 3 opciones a escoger\n",
            " Opción -1 - -- Seleccione --\n",
            " Opción 193 - Actividad Practica Book 1\n",
            " Opción 343 - Actividad Practica Books 2 a 4\n",
            " Click en opción Actividad Practica Books 2 a 4.\n",
            " Se logró seleccionar la opción Actividad Practica Books 2 a 4.\n",
            "Seleccionando la fecha de reserva ...\n",
            " Se asignará fecha 2021-08-12.\n",
            " Se asignó fecha 2021-08-12.\n",
            "Consultando horarios disponibles ...\n",
            "Click en boton\n",
            "Consultando horarios disponibles del día jueves ...\n",
            "Mostrando los valores de la lista de horarios del día jueves ...\n",
            "Jueves   07:00   08:00   VOCABULARY Books 2a4   \n",
            "Jueves   08:00   09:00   ENGLISH IN CONTEXT Books 2a4   \n",
            "Jueves   08:00   09:00   ENGLISH IN CONTEXT Books 2a4   \n",
            "Jueves   09:00   10:00   PHONETICS Books 2a4   \n",
            "Jueves   10:00   11:00   READING Books 2a4   \n",
            "Jueves   10:00   11:00   READING Books 2a4   \n",
            "Jueves   10:00   11:00   READING Books 2a4   \n",
            "Jueves   11:00   12:00   GAMES Books 2a4   \n",
            "Jueves   11:00   12:00   GAMES Books 2a4   \n",
            "Jueves   12:00   13:00   LISTENING Books 2a4   \n",
            "Jueves   12:00   13:00   LISTENING Books 2a4   \n",
            "Jueves   12:00   13:00   LISTENING Books 2a4   \n",
            "Jueves   13:00   14:00   ORAL INTERACTION Books 2a4   \n",
            "Jueves   13:00   14:00   ORAL INTERACTION Books 2a4   \n",
            "Jueves   14:00   15:00   GRAMMAR Books 2a4   \n",
            "Jueves   14:00   15:00   GRAMMAR Books 2a4   \n",
            "Jueves   14:00   15:00   GRAMMAR Books 2a4   \n",
            "Jueves   15:00   16:00   WRITING Books 2a4   \n",
            "Jueves   15:00   16:00   WRITING Books 2a4   \n",
            "Jueves   16:00   17:00   EXPRESSIONS Books 2a4   \n",
            "Jueves   16:00   17:00   EXPRESSIONS Books 2a4   \n",
            "Jueves   17:00   18:00   ENGLISH VIDEOS Books 2a4   \n",
            "Jueves   17:00   18:00   ENGLISH VIDEOS Books 2a4   \n",
            "Jueves   17:00   18:00   ENGLISH VIDEOS Books 2a4   \n",
            "Jueves   17:00   18:00   ENGLISH VIDEOS Books 2a4   \n"
          ],
          "name": "stdout"
        }
      ]
    }
  ]
}